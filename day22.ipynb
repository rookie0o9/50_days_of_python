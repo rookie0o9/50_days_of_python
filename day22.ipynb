{
 "cells": [
  {
   "attachments": {},
   "cell_type": "markdown",
   "metadata": {},
   "source": [
    "Day 22: Add Under_Score\n",
    "\n",
    "Create three functions. The first called add_hash takes a string and adds a hash # between the words. The second function called add_underscore removes the hash (#) and replaces it with an underscore \"_\" The third function called remove_underscore, removes the underscore and replaces it with nothing. if you pass ‘Python’ as an argument for the three functions, and you call them at the same time like: print(remove_underscore(add_underscore(add_hash('Python'))))\n",
    "it should return ‘Python’."
   ]
  },
  {
   "cell_type": "code",
   "execution_count": 16,
   "metadata": {},
   "outputs": [
    {
     "name": "stdout",
     "output_type": "stream",
     "text": [
      "Python\n"
     ]
    }
   ],
   "source": [
    "string = 'Python'\n",
    "\n",
    "def add_hash(string):\n",
    "    result = '#'.join(string)\n",
    "    return result\n",
    "   \n",
    "hash_result = add_hash(string)\n",
    "\n",
    "\n",
    "def add_underscore(hash_result):\n",
    "    result = hash_result.replace('#','_')\n",
    "    return result\n",
    "\n",
    "underscore_result = add_underscore(hash_result)\n",
    "\n",
    "\n",
    "def remove_underscore(underscore_result):\n",
    "    result = ''.join(underscore_result.split('_'))\n",
    "    return result\n",
    "\n",
    "\n",
    "print(remove_underscore(underscore_result))\n"
   ]
  },
  {
   "cell_type": "code",
   "execution_count": null,
   "metadata": {},
   "outputs": [],
   "source": []
  }
 ],
 "metadata": {
  "kernelspec": {
   "display_name": "Python 3.10.7 64-bit",
   "language": "python",
   "name": "python3"
  },
  "language_info": {
   "codemirror_mode": {
    "name": "ipython",
    "version": 3
   },
   "file_extension": ".py",
   "mimetype": "text/x-python",
   "name": "python",
   "nbconvert_exporter": "python",
   "pygments_lexer": "ipython3",
   "version": "3.10.7"
  },
  "orig_nbformat": 4,
  "vscode": {
   "interpreter": {
    "hash": "b0fa6594d8f4cbf19f97940f81e996739fb7646882a419484c72d19e05852a7e"
   }
  }
 },
 "nbformat": 4,
 "nbformat_minor": 2
}
