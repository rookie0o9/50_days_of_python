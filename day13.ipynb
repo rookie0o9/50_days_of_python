{
 "cells": [
  {
   "cell_type": "markdown",
   "metadata": {},
   "source": [
    "Day 13: Pay Your Tax\n",
    "\n",
    "Write a function called your_vat. The function takes no parameter. The function asks the user to input the price of an item and VAT (vat should be a percentage). The function should return the price of the item plus VAT. If the price is 220 and, VAT is 15% your code should return a vat inclusive price of 253. Make sure that your code can handle ValueError. Ensure the code runs until valid numbers are entered. (hint: Your code should include a while loop)."
   ]
  },
  {
   "cell_type": "code",
   "execution_count": null,
   "metadata": {},
   "outputs": [],
   "source": [
    "def your_vat():\n",
    "    # create a while loop: while contained code is true, it keeps executing\n",
    "    while True:\n",
    "        try:\n",
    "            # true to convert input to integer...\n",
    "            cost_price = int(input(\"What's the cost of the item?: \"))\n",
    "        # if valuerror, ask for correct int input\n",
    "        except ValueError:\n",
    "            print(\"Input a valid price!\")\n",
    "            # if input type correct, continue\n",
    "            continue\n",
    "        # ask for VAT input\n",
    "        try:\n",
    "            # input VAT in percent, and strip the % away from input\n",
    "            VAT_item = int(\n",
    "                (input(\"How many percent VAT?: \")).strip(\"%\"))\n",
    "        # if input value incorrect, ask for new input\n",
    "        except ValueError:\n",
    "            print(\"Input a valid VAT!\")\n",
    "            continue\n",
    "        else:\n",
    "            break\n",
    "    # convert VAT to float to enable calculation\n",
    "    convert_VAT = VAT_item / 100\n",
    "    VAT_value = (convert_VAT * cost_price)\n",
    "    item_price = cost_price + VAT_value\n",
    "    return item_price\n",
    "\n",
    "print(your_vat())\n"
   ]
  },
  {
   "cell_type": "code",
   "execution_count": null,
   "metadata": {},
   "outputs": [],
   "source": []
  },
  {
   "cell_type": "markdown",
   "metadata": {},
   "source": [
    "Extra Challenge: Pyramid of Snakes\n",
    "\n",
    "Write a function called Python_snakes that takes a number as an argument and creates the following shape, using the number’s range: (hint: Use the loops and emoji library. If you pass 7 as argument, your code should print the following:"
   ]
  },
  {
   "cell_type": "code",
   "execution_count": null,
   "metadata": {},
   "outputs": [],
   "source": [
    "num = 7\n",
    "\n",
    "def python_snakes(num):\n",
    "    count = 0\n",
    "    for c in range(count,num):\n",
    "        count = str(count) + str(c)\n",
    "        print(count)\n",
    "        \n",
    "\n",
    "python_snakes(num)"
   ]
  }
 ],
 "metadata": {
  "kernelspec": {
   "display_name": "Python 3.10.7 64-bit",
   "language": "python",
   "name": "python3"
  },
  "language_info": {
   "codemirror_mode": {
    "name": "ipython",
    "version": 3
   },
   "file_extension": ".py",
   "mimetype": "text/x-python",
   "name": "python",
   "nbconvert_exporter": "python",
   "pygments_lexer": "ipython3",
   "version": "3.10.7"
  },
  "orig_nbformat": 4,
  "vscode": {
   "interpreter": {
    "hash": "b0fa6594d8f4cbf19f97940f81e996739fb7646882a419484c72d19e05852a7e"
   }
  }
 },
 "nbformat": 4,
 "nbformat_minor": 2
}
