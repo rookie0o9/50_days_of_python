{
 "cells": [
  {
   "attachments": {},
   "cell_type": "markdown",
   "metadata": {},
   "source": [
    "Day 20: Capitalize First Letter\n",
    "\n",
    "Write a function called capitalize. This function takes a string as an argument and capitalizes the first letter of each word. For example, ‘i like learning’ becomes ‘I Like Learning’."
   ]
  },
  {
   "cell_type": "code",
   "execution_count": 8,
   "metadata": {},
   "outputs": [
    {
     "name": "stdout",
     "output_type": "stream",
     "text": [
      "I Like Learning\n"
     ]
    }
   ],
   "source": [
    "string = \"i like learning\"\n",
    "def capitalize(a):\n",
    "    cap_list = [i.capitalize() for i in a.split()]\n",
    "    print(' '.join(cap_list))\n",
    "\n",
    "capitalize(string)\n"
   ]
  },
  {
   "attachments": {},
   "cell_type": "markdown",
   "metadata": {},
   "source": [
    "Extra Challenge: Reversed List\n",
    "\n",
    "You are given a string of words. Some of the words in the string contain uppercase letters. Write a code that will return all the words that have an uppercase letter. Your code should return a list of the words. Each word in the list should be reversed. Here is how your output should look:"
   ]
  },
  {
   "cell_type": "code",
   "execution_count": 22,
   "metadata": {},
   "outputs": [
    {
     "data": {
      "text/plain": [
       "['gninrAel', 'tUb', 'uoY', 'yLppa', 'flesRuoy', 'eVeihca']"
      ]
     },
     "execution_count": 22,
     "metadata": {},
     "output_type": "execute_result"
    }
   ],
   "source": [
    "string_of_words = 'leArning is hard, bUt if You appLy youRself you can achieVe success'\n",
    "\n",
    "def reverse_capital_list(string_of_words):\n",
    "    # SPLIT THE STRINGS INTO WORDS AND ADD TO A LIST\n",
    "    new_list = [word for word in string_of_words.split()]\n",
    "    # LOOP OVER THE LIST, GET EACH WORD AND LOOP OVER EACH WORD, RETURN WORDS CONTAINING UPPERCASE, RETURN THE WORD REVERSED\n",
    "    check_for_cap = [word[::-1]\n",
    "                     for word in new_list for alphabet in word if alphabet.isupper()]\n",
    "    return check_for_cap\n",
    "\n",
    "\n",
    "reverse_capital_list(string_of_words)\n"
   ]
  }
 ],
 "metadata": {
  "kernelspec": {
   "display_name": "Python 3.10.7 64-bit",
   "language": "python",
   "name": "python3"
  },
  "language_info": {
   "codemirror_mode": {
    "name": "ipython",
    "version": 3
   },
   "file_extension": ".py",
   "mimetype": "text/x-python",
   "name": "python",
   "nbconvert_exporter": "python",
   "pygments_lexer": "ipython3",
   "version": "3.10.7"
  },
  "orig_nbformat": 4,
  "vscode": {
   "interpreter": {
    "hash": "b0fa6594d8f4cbf19f97940f81e996739fb7646882a419484c72d19e05852a7e"
   }
  }
 },
 "nbformat": 4,
 "nbformat_minor": 2
}
