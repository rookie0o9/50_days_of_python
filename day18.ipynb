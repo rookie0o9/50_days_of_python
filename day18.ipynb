{
 "cells": [
  {
   "cell_type": "markdown",
   "metadata": {},
   "source": [
    "Day 18: Any Number of Arguments\n",
    "\n",
    "Write a function called any_number that can receive any number of arguments (integers and floats) and return the average of those integers. If you pass 12, 90, 12, 34 as arguments your function should return 37.0 as average. If you pass 12, 90 your function should return 51.0 as average.\n"
   ]
  },
  {
   "cell_type": "code",
   "execution_count": null,
   "metadata": {},
   "outputs": [],
   "source": [
    "# IMPORT MEAN FROM THE STATISTICS LIBRARY\n",
    "from statistics import mean\n",
    "# YOU THE ARGS ATTRIBUTE TO GET UNLIMITED ARGUMENTS\n",
    "def any_number(*args):\n",
    "    # DO A MEAN OF ARGUMENTS PASSED\n",
    "    result = mean(args)\n",
    "    # FLOAT THE RESULT\n",
    "    return float(result)\n",
    "\n",
    "\n",
    "print(any_number(12,90,12,34))\n"
   ]
  },
  {
   "cell_type": "markdown",
   "metadata": {},
   "source": [
    "Extra Challenge: Add and Reverse\n",
    "\n",
    "Write a function called add_reverse. This function takes two lists as argument and adds each corresponding number, and reverses the outcome. For example, if you pass [10, 12, 34] and [12, 56, 78]. Your code should return [112, 22, 68]. If the two lists are not of equal lengths, the code should return a message that \"the lists are not of equal lengths\"."
   ]
  },
  {
   "cell_type": "code",
   "execution_count": 25,
   "metadata": {},
   "outputs": [
    {
     "name": "stdout",
     "output_type": "stream",
     "text": [
      "[22, 68, 112]\n"
     ]
    }
   ],
   "source": [
    "# IMPORT SYS TO HANDLE CHECKS\n",
    "import sys\n",
    "list1 = [10, 12, 34]\n",
    "list2 = [12, 56, 78]\n",
    "\n",
    "\n",
    "def add_reverse(a, b):\n",
    "    # CHECK LENGTH OF LISTS\n",
    "    if len(a) != len(b):\n",
    "        # STOP THE PROGRAM IF THE LISTS ARE NOT EQUAL\n",
    "        sys.exit(\"the lists are not of equal lengths\")\n",
    "    else:\n",
    "        # ELSE CREATE A NEW LIST, ZIP AN ADDITION OF THE INDEXES\n",
    "        new_list = [sum(i) for i in zip(a, b)]\n",
    "        # RETURN A REVERSED LIST\n",
    "        return new_list[::-1]\n",
    "\n",
    "\n",
    "print(add_reverse(list1, list2))"
   ]
  }
 ],
 "metadata": {
  "kernelspec": {
   "display_name": "Python 3.10.7 64-bit",
   "language": "python",
   "name": "python3"
  },
  "language_info": {
   "codemirror_mode": {
    "name": "ipython",
    "version": 3
   },
   "file_extension": ".py",
   "mimetype": "text/x-python",
   "name": "python",
   "nbconvert_exporter": "python",
   "pygments_lexer": "ipython3",
   "version": "3.10.7"
  },
  "orig_nbformat": 4,
  "vscode": {
   "interpreter": {
    "hash": "b0fa6594d8f4cbf19f97940f81e996739fb7646882a419484c72d19e05852a7e"
   }
  }
 },
 "nbformat": 4,
 "nbformat_minor": 2
}
