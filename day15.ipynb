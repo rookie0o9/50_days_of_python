{
 "cells": [
  {
   "cell_type": "markdown",
   "metadata": {},
   "source": [
    "Day 15: Same in Reverse\n",
    "\n",
    "Write a function called same_in_reverse that takes a string and checks if the string reads the same in reverse. If it is the same, the code should return True if not, it should return False. For example, ‘dad’ should return True, because it reads the\n",
    "same in reverse."
   ]
  },
  {
   "cell_type": "code",
   "execution_count": null,
   "metadata": {},
   "outputs": [],
   "source": [
    "def same_in_reverse():\n",
    "    input_string = input(\"Input a value: \")\n",
    "    # index the value from the last to first against first to last\n",
    "    return input_string == input_string[::-1]\n",
    "print(same_in_reverse())\n"
   ]
  },
  {
   "cell_type": "markdown",
   "metadata": {},
   "source": [
    "Extra Challenge: What’s My Age?\n",
    "\n",
    "Write a function called your_age. This function asks a student to enter their name and then it returns their age. For example, if a user enters Peter as their name, your function should return, ‘Hi, Peter, you are 27 years old. This function reads data from the database (dictionary below). If the name is not in the dictionary, your code should tell the user that their name is not in the dictionary, and ask them for their age. Your code should then add the name and age to the dictionary of names_age below. Once added your code should return to the user ‘Hi, (added name), you are (added age) years old’. Remember to convert the input from user to lowercase letters"
   ]
  },
  {
   "cell_type": "code",
   "execution_count": null,
   "metadata": {},
   "outputs": [],
   "source": [
    "def your_age():\n",
    "\n",
    "    names_age = {\"jane\": 23, \"kerry\": 45, \"tim\": 34, \"peter\": 27}\n",
    "    name_input = input(\"What is your name: \")\n",
    "\n",
    "    if name_input in names_age:\n",
    "        output = (\"Hi, {}, you are {} years old\").format(\n",
    "            name_input, names_age[name_input])\n",
    "        return output\n",
    "\n",
    "    elif name_input not in names_age:\n",
    "        while True:\n",
    "            try:\n",
    "                age_input = int(input(\"What is your age: \"))\n",
    "            except ValueError:\n",
    "                print(\"Input a valid age: \")\n",
    "                continue\n",
    "            names_age[name_input] = age_input\n",
    "            output = (\"Hi, {}, you are {} years old\").format(\n",
    "                name_input, names_age[name_input])\n",
    "            return output, names_age\n",
    "\n",
    "print(your_age())\n"
   ]
  },
  {
   "cell_type": "code",
   "execution_count": null,
   "metadata": {},
   "outputs": [],
   "source": []
  }
 ],
 "metadata": {
  "kernelspec": {
   "display_name": "Python 3.10.7 64-bit",
   "language": "python",
   "name": "python3"
  },
  "language_info": {
   "codemirror_mode": {
    "name": "ipython",
    "version": 3
   },
   "file_extension": ".py",
   "mimetype": "text/x-python",
   "name": "python",
   "nbconvert_exporter": "python",
   "pygments_lexer": "ipython3",
   "version": "3.10.7"
  },
  "orig_nbformat": 4,
  "vscode": {
   "interpreter": {
    "hash": "b0fa6594d8f4cbf19f97940f81e996739fb7646882a419484c72d19e05852a7e"
   }
  }
 },
 "nbformat": 4,
 "nbformat_minor": 2
}
