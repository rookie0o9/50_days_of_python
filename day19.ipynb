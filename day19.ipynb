{
 "cells": [
  {
   "attachments": {},
   "cell_type": "markdown",
   "metadata": {},
   "source": [
    "Day 19: Words and Elements\n",
    "\n",
    "Write two functions. The first function is called count_words which takes a string of words and counts how many words are in the string.\n",
    "The second function called count_elements takes a string of words and counts how many elements are in the string. Do not count the whitespaces. The first function will return the number of words in a string and the second one will return the number of elements (less whitespace). If you pass ‘I love learning’, the count_words function should return 3 words and count_elements should return 13 elements."
   ]
  },
  {
   "cell_type": "code",
   "execution_count": 9,
   "metadata": {},
   "outputs": [
    {
     "name": "stdout",
     "output_type": "stream",
     "text": [
      "3 words\n",
      "13 elements\n"
     ]
    }
   ],
   "source": [
    "\n",
    "# DEFINE STRING VARIABLE\n",
    "words = 'I love learning'\n",
    "def count_elements(a):\n",
    "    # CREATE A LIST EXCLUDING THE SPACE\n",
    "    count_elem = [i for i in a if i != ' ']\n",
    "    # RETURN A LENGTH OF NEW LIST\n",
    "    return \"{} elements\".format(len(count_elem))\n",
    "\n",
    "def count_words(word_strings):\n",
    "    # SPLIT THE STRINGS\n",
    "    result = word_strings.split()\n",
    "    # COUNT EACH INSTANCE\n",
    "    return \"{} words\".format(len(result))\n",
    "\n",
    "\n",
    "print(count_words(words))\n",
    "print(count_elements(words))\n"
   ]
  },
  {
   "cell_type": "code",
   "execution_count": null,
   "metadata": {},
   "outputs": [],
   "source": []
  }
 ],
 "metadata": {
  "kernelspec": {
   "display_name": "Python 3.10.7 64-bit",
   "language": "python",
   "name": "python3"
  },
  "language_info": {
   "codemirror_mode": {
    "name": "ipython",
    "version": 3
   },
   "file_extension": ".py",
   "mimetype": "text/x-python",
   "name": "python",
   "nbconvert_exporter": "python",
   "pygments_lexer": "ipython3",
   "version": "3.10.7"
  },
  "orig_nbformat": 4,
  "vscode": {
   "interpreter": {
    "hash": "b0fa6594d8f4cbf19f97940f81e996739fb7646882a419484c72d19e05852a7e"
   }
  }
 },
 "nbformat": 4,
 "nbformat_minor": 2
}
