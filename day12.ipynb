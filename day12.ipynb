{
 "cells": [
  {
   "cell_type": "markdown",
   "metadata": {},
   "source": [
    "Day 12: Count the Dots\n",
    "\n",
    "Write a function called count_dots. This function takes a string separated by dots as a parameter and counts how many dots are in the string. For example, ‘h.e.l.p.’ should return 4 dots, and ‘he.lp.’ should return 2 dots."
   ]
  },
  {
   "cell_type": "code",
   "execution_count": null,
   "metadata": {},
   "outputs": [],
   "source": [
    "str_tuple = \"h.e.l.p.\"\n",
    "\n",
    "def count_dots(a):\n",
    "    # create a list comprehension to filter the string\n",
    "    check= [c for c in a if c == '.']\n",
    "    # return the count\n",
    "    return check.count('.')\n",
    "    \n",
    "\n",
    "count_dots(str_tuple)\n"
   ]
  },
  {
   "cell_type": "markdown",
   "metadata": {},
   "source": [
    "Extra Challenge: Your Age in Minutes\n",
    "\n",
    "Write a function called age_in_minutes that tells a user how old they are in minutes. Your code should ask the user to enter their year of birth, and it should return their age in minutes (by subtracting their year of birth to the current year). Here are things to look out for:\n",
    "a. The user can only input a 4-digit year of birth. For example, 1930 is a valid year. However, entering any number longer or less than 4 digits long should render input invalid. Notify the user to input a four digits number.\n",
    "b. If a user enters a year before 1900, your code should tell the user that input is invalid. If the user enters the year after the current year, the code should tell the user, to input a valid year.\n",
    "The code should run until the user inputs a valid year. Your function should return the user's age in minutes. For example, if someone enters 1930, as their year of birth your function should return: You are 48,355,200 minutes old."
   ]
  },
  {
   "cell_type": "code",
   "execution_count": null,
   "metadata": {},
   "outputs": [],
   "source": [
    "def age_in_minutes():\n",
    "    # define current year variable\n",
    "    current_year = 2022\n",
    "    # define minutes in a year variable\n",
    "    minutes_per_year = 525600\n",
    "    # create a while loop: while these values remain true, keep asking for input\n",
    "    while True:\n",
    "        try:\n",
    "            # try to get age input, if given value can be converted to integer, continue\n",
    "            age_input = int(input(\"What year were you born? \"))\n",
    "            # if about condition not met due to valueError, keep asking for input\n",
    "        except ValueError:\n",
    "            print(\"Input a valid age! \")\n",
    "            continue\n",
    "            # if above is satisfied, check for these conditions\n",
    "        if len(str(age_input)) != 4 or int(age_input) < 1901 or int(age_input) > 2022:\n",
    "            # if met, continue...else, keep asking for input\n",
    "            print(\"Input a valid age! \")\n",
    "            continue\n",
    "        # if all conditions are met, break out of while loop;\n",
    "        else:\n",
    "            break\n",
    "    # calculate age in minutes...format it with commas.\n",
    "    age_in_minutes = '{0:,}'.format(\n",
    "        (current_year - age_input) * minutes_per_year)\n",
    "\n",
    "    return age_in_minutes\n",
    "\n",
    "\n",
    "print(age_in_minutes())\n"
   ]
  }
 ],
 "metadata": {
  "kernelspec": {
   "display_name": "Python 3.10.7 64-bit",
   "language": "python",
   "name": "python3"
  },
  "language_info": {
   "codemirror_mode": {
    "name": "ipython",
    "version": 3
   },
   "file_extension": ".py",
   "mimetype": "text/x-python",
   "name": "python",
   "nbconvert_exporter": "python",
   "pygments_lexer": "ipython3",
   "version": "3.10.7"
  },
  "orig_nbformat": 4,
  "vscode": {
   "interpreter": {
    "hash": "b0fa6594d8f4cbf19f97940f81e996739fb7646882a419484c72d19e05852a7e"
   }
  }
 },
 "nbformat": 4,
 "nbformat_minor": 2
}
