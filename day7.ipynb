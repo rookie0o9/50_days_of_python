{
 "cells": [
  {
   "cell_type": "markdown",
   "metadata": {},
   "source": [
    "Day 7: A String Range\n",
    "\n",
    "Write a function called string_range that takes a single number and returns a string of its range. The string characters should be separated by dots(.) For example, if you pass 6 as an argument, your function should return ‘0.1.2.3.4.5’.\n"
   ]
  },
  {
   "cell_type": "code",
   "execution_count": null,
   "metadata": {},
   "outputs": [],
   "source": [
    "int_var = (6)\n",
    "\n",
    "def string_range(int_var):\n",
    "    # create list comprehension of integer, converted to str.\n",
    "    check = [str(c) for c in range(int_var)]\n",
    "    # join decimal and return the output\n",
    "    return '.'.join(check)  \n",
    "     \n",
    "string_range(int_var)\n",
    "\n"
   ]
  },
  {
   "cell_type": "markdown",
   "metadata": {},
   "source": [
    "Extra Challenge: Dictionary of names\n",
    "\n",
    "You are given a list of names, and you are asked to write a code that returns all the names that start with ‘S’. Your code should return a dictionary of all the names that start with S and how many times they appear in the dictionary. Here is a list below:"
   ]
  },
  {
   "cell_type": "code",
   "execution_count": 83,
   "metadata": {},
   "outputs": [
    {
     "data": {
      "text/plain": [
       "{'Sasha': 1, 'Sera': 2}"
      ]
     },
     "execution_count": 83,
     "metadata": {},
     "output_type": "execute_result"
    }
   ],
   "source": [
    "\n",
    "# https://www.w3schools.com/python/python_howto_remove_duplicates.asp\n",
    "names = [\"Joseph\", \"Nathan\", \"Sasha\", \"Kelly\", \"Muhammad\", \"Jabulani\", \"Sera\", \"Patel\", \"Sera\"]\n",
    "\n",
    "def name_count(names):\n",
    "    # create filter, get names that starts with 'S' and store in a list\n",
    "    new_name_s_list = [name for name in names if 'S' in name]\n",
    "    # use 'set' to return names only once, use the returned names as keys...do a count of how many times the names occur in the filtered list above...use dict to zip them\n",
    "    dict_return = dict((dict_key, new_name_s_list.count(dict_key))\n",
    "                       for dict_key in sorted(set(new_name_s_list)))\n",
    "    return dict_return\n",
    "   \n",
    "\n",
    "name_count(names)"
   ]
  }
 ],
 "metadata": {
  "kernelspec": {
   "display_name": "Python 3.10.7 64-bit",
   "language": "python",
   "name": "python3"
  },
  "language_info": {
   "codemirror_mode": {
    "name": "ipython",
    "version": 3
   },
   "file_extension": ".py",
   "mimetype": "text/x-python",
   "name": "python",
   "nbconvert_exporter": "python",
   "pygments_lexer": "ipython3",
   "version": "3.10.7"
  },
  "orig_nbformat": 4,
  "vscode": {
   "interpreter": {
    "hash": "b0fa6594d8f4cbf19f97940f81e996739fb7646882a419484c72d19e05852a7e"
   }
  }
 },
 "nbformat": 4,
 "nbformat_minor": 2
}
