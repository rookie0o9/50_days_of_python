{
 "cells": [
  {
   "attachments": {},
   "cell_type": "markdown",
   "metadata": {},
   "source": [
    "Day 21: List of Tuples\n",
    "\n",
    "Write a function called make_tuples that takes two lists, equal lists, and combines them into a list of tuples. For example, if list a is [1,2,3,4] and list b is [5,6,7,8], your function should return [(1,5), (2,6), (3,7), (4,8)]."
   ]
  },
  {
   "cell_type": "code",
   "execution_count": 3,
   "metadata": {},
   "outputs": [
    {
     "data": {
      "text/plain": [
       "[(1, 5), (2, 6), (3, 7), (4, 8)]"
      ]
     },
     "execution_count": 3,
     "metadata": {},
     "output_type": "execute_result"
    }
   ],
   "source": [
    "import sys\n",
    "list_a = [1, 2, 3, 4]\n",
    "list_b = [5, 6, 7, 8]\n",
    "\n",
    "def make_tuples(a,b):\n",
    "    if len(a) != len(b):\n",
    "        sys.exit(\"Input equal lists\")\n",
    "    new_list = [(i) for i in zip(a,b)]\n",
    "    return new_list\n",
    "\n",
    "\n",
    "make_tuples(list_a, list_b)\n"
   ]
  },
  {
   "attachments": {},
   "cell_type": "markdown",
   "metadata": {},
   "source": [
    "Extra Challenge: Even Number or Average\n",
    "\n",
    "Write a function called even_or_average that ask a user to input five numbers. Once the user is done, the code should return the largest even number in the inputted numbers. If there is no even number in the list, the code should return the average of all the five numbers."
   ]
  },
  {
   "cell_type": "code",
   "execution_count": null,
   "metadata": {},
   "outputs": [],
   "source": [
    "from statistics import mean\n",
    "def even_or_average():\n",
    "    try:\n",
    "        # INPUT THE NUMBER, SPLIT THEM SINCE IT IS IN TERMINAL AND WON'T RECOGNISE THE SPACE\n",
    "        input_number = input(\"Input 5 numbers: \").split()\n",
    "        list_numbers = [int(i) for i in input_number]\n",
    "    except ValueError as e:\n",
    "        sys.exit(e)\n",
    "    except TypeError as e:\n",
    "        sys.exit(e)\n",
    "    else:\n",
    "        # FOR LEN OF THE LIST, IF A NUMBER IS EVEN, RETURN THE EVEN NUMBERS\n",
    "        if len(list_numbers) % 2 == 0:\n",
    "            result = [i for i in list_numbers if i % 2 == 0]\n",
    "         # FOR LEN OF THE LIST, IF NO NUMBER IS EVEN, RETURN THE AVERAGE OF NUMBERS IN LIST\n",
    "        elif len(list_numbers) % 2 != 0:\n",
    "            result = mean(list_numbers)\n",
    "\n",
    "    return result\n",
    "\n",
    "\n",
    "print(even_or_average())\n"
   ]
  }
 ],
 "metadata": {
  "kernelspec": {
   "display_name": "Python 3.10.7 64-bit",
   "language": "python",
   "name": "python3"
  },
  "language_info": {
   "codemirror_mode": {
    "name": "ipython",
    "version": 3
   },
   "file_extension": ".py",
   "mimetype": "text/x-python",
   "name": "python",
   "nbconvert_exporter": "python",
   "pygments_lexer": "ipython3",
   "version": "3.10.7"
  },
  "orig_nbformat": 4,
  "vscode": {
   "interpreter": {
    "hash": "b0fa6594d8f4cbf19f97940f81e996739fb7646882a419484c72d19e05852a7e"
   }
  }
 },
 "nbformat": 4,
 "nbformat_minor": 2
}
