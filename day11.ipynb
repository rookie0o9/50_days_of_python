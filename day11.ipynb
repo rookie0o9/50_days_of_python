{
 "cells": [
  {
   "cell_type": "markdown",
   "metadata": {},
   "source": [
    "Day 11: Are They Equal?\n",
    "\n",
    "Write a function called equal_strings. The function takes two strings as arguments and compares them. If the strings are equal (if they have the same characters and have equal length), it should return True, if they are not, it should return False. For example, ‘love’ and ‘evol’ should return True."
   ]
  },
  {
   "cell_type": "code",
   "execution_count": null,
   "metadata": {},
   "outputs": [],
   "source": [
    "string_one = 'love'\n",
    "string_two = 'evol'\n",
    "\n",
    "def equal_strings(a,b):\n",
    "    # split the strings\n",
    "    split_a = ''.split(a)\n",
    "    split_b = ''.split(b)\n",
    "    # compare sorted values\n",
    "    return split_a.sort() == split_b.sort()\n",
    "\n",
    "equal_strings(string_one, string_two)\n"
   ]
  },
  {
   "cell_type": "markdown",
   "metadata": {},
   "source": [
    "Extra Challenge: Swap Values\n",
    "\n",
    "Write a function called swap_values. This function takes a list of numbers and swaps the first element with the last element. For example, if you pass [2, 4,67, 7] as a parameter, your function should return [7, 4, 67, 2]."
   ]
  },
  {
   "cell_type": "code",
   "execution_count": null,
   "metadata": {},
   "outputs": [],
   "source": [
    "str_list = [2, 4,67, 7]\n",
    "def swap_values(str_list):\n",
    "    # index the first and last values, equate them to the opposite index.\n",
    "    str_list[0], str_list[-1] = str_list[-1], str_list[0]\n",
    "    return str_list\n",
    "\n",
    "swap_values(str_list)"
   ]
  }
 ],
 "metadata": {
  "kernelspec": {
   "display_name": "Python 3.10.7 64-bit",
   "language": "python",
   "name": "python3"
  },
  "language_info": {
   "codemirror_mode": {
    "name": "ipython",
    "version": 3
   },
   "file_extension": ".py",
   "mimetype": "text/x-python",
   "name": "python",
   "nbconvert_exporter": "python",
   "pygments_lexer": "ipython3",
   "version": "3.10.7"
  },
  "orig_nbformat": 4,
  "vscode": {
   "interpreter": {
    "hash": "b0fa6594d8f4cbf19f97940f81e996739fb7646882a419484c72d19e05852a7e"
   }
  }
 },
 "nbformat": 4,
 "nbformat_minor": 2
}
