{
 "cells": [
  {
   "cell_type": "markdown",
   "metadata": {},
   "source": [
    "Day 10: Hide my Password\n",
    "\n",
    "Write a function called hide_password that takes no parameters. The function takes an input (a password) from a user and returns a hidden password. For example, if the user enters ‘hello’ as a password the function should return ‘****’ as a password and tell the user that the password is 4 characters long."
   ]
  },
  {
   "cell_type": "code",
   "execution_count": null,
   "metadata": {},
   "outputs": [],
   "source": [
    "password = input('Input your password: ')\n",
    "\n",
    "def hide_password(password):\n",
    "    # for length of string, replace it with *\n",
    "    mask_pass = '*' * len(password)\n",
    "    return_value = 'Password is {} and its {} characters long'.format(\n",
    "        mask_pass, len(password))\n",
    "    return return_value\n",
    "\n",
    "hide_password(password)"
   ]
  },
  {
   "cell_type": "markdown",
   "metadata": {},
   "source": [
    "Extra Challenge: A Thousand Separator\n",
    "\n",
    "Your new company has a list of figures saved in a list. The issue is that these numbers have no separator. The numbers are saved in the following format:\n",
    "[1000000, 2356989, 2354672, 9878098].\n",
    "You have been asked to write a code that will convert each of the numbers in the list into a string. Your code should then add a comma on each number as a thousand separator for readability. When you run your code on the above list, your output should be:\n",
    "[ '1,000,000', '2,356,989', '2,354,672', '9,878,098’]\n",
    "Write a function called convert_numbers that will take one argument, a list of numbers above."
   ]
  },
  {
   "cell_type": "code",
   "execution_count": 5,
   "metadata": {},
   "outputs": [
    {
     "data": {
      "text/plain": [
       "['1,000,000', '2,356,989', '2,354,672', '9,878,098']"
      ]
     },
     "execution_count": 5,
     "metadata": {},
     "output_type": "execute_result"
    }
   ],
   "source": [
    "int_list = [1000000, 2356989, 2354672, 9878098]\n",
    "# create empty list\n",
    "new_list = []\n",
    "def convert_numbers(int_list):\n",
    "    # use .format to add commas to the items in the list\n",
    "    convert_numbers = ['{0:,}'.format(c) for c in int_list]\n",
    "    return convert_numbers\n",
    "    # # create a loop of the items in the list\n",
    "    # for last_3 in int_list:\n",
    "    #     # convert the items(integer) to string\n",
    "    #     last_3 = str(last_3)\n",
    "    #     # create a tuple, use index to reference the last three values in the string\n",
    "    #     tuple_last_3 = last_3[:-6], last_3[-6:-3], last_3[-3:]\n",
    "    #     # join the items in the tuple with ',' comma\n",
    "    #     tuple_last_3_join = ','.join(tuple_last_3)\n",
    "    #     # append the tuple to the empty list\n",
    "    #     new_list.append(tuple_last_3_join)\n",
    "    # return new_list\n",
    "\n",
    "\n",
    "convert_numbers(int_list)\n",
    "\n",
    "    \n"
   ]
  }
 ],
 "metadata": {
  "kernelspec": {
   "display_name": "Python 3.10.7 64-bit",
   "language": "python",
   "name": "python3"
  },
  "language_info": {
   "codemirror_mode": {
    "name": "ipython",
    "version": 3
   },
   "file_extension": ".py",
   "mimetype": "text/x-python",
   "name": "python",
   "nbconvert_exporter": "python",
   "pygments_lexer": "ipython3",
   "version": "3.10.7"
  },
  "orig_nbformat": 4,
  "vscode": {
   "interpreter": {
    "hash": "b0fa6594d8f4cbf19f97940f81e996739fb7646882a419484c72d19e05852a7e"
   }
  }
 },
 "nbformat": 4,
 "nbformat_minor": 2
}
