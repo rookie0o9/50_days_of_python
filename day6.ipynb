{
 "cells": [
  {
   "cell_type": "markdown",
   "metadata": {},
   "source": [
    "Day 6: User Name Generator\n",
    "\n",
    "Write a function called user_name that generates a username from the user’s email. The code should ask the user to input an email and the code should return everything before the @ sign as their user name. For example, if someone enters ben@gmail.com, the code should return ben as their user name."
   ]
  },
  {
   "cell_type": "code",
   "execution_count": 13,
   "metadata": {},
   "outputs": [
    {
     "data": {
      "text/plain": [
       "'ben'"
      ]
     },
     "execution_count": 13,
     "metadata": {},
     "output_type": "execute_result"
    }
   ],
   "source": [
    "email_input = 'ben@gmail.com'\n",
    "# def user_name(email_input):\n",
    "#     sep = '@'\n",
    "#     user_nam = email_input.split(sep,2)[0]\n",
    "#     return user_nam\n",
    "\n",
    "# user_name(email_input)\n",
    "\n",
    "\n",
    "def user_name(email_input):\n",
    "    # partition all 3 parts...\n",
    "    head, sep, tail = email_input.partition('@')\n",
    "    return head\n",
    "\n",
    "user_name(email_input)\n"
   ]
  },
  {
   "cell_type": "markdown",
   "metadata": {},
   "source": [
    "Extra Challenge: Zero Both ends\n",
    "\n",
    "Write a function called zeroed code that takes a list of numbers as an argument. The code should zero (0) the first and the last number in the list. For example, if the input is [2, 5, 7, 8, 9], your code should return [0, 5, 7, 8, 0]."
   ]
  },
  {
   "cell_type": "code",
   "execution_count": 16,
   "metadata": {},
   "outputs": [
    {
     "data": {
      "text/plain": [
       "[0, 5, 7, 8, 0]"
      ]
     },
     "execution_count": 16,
     "metadata": {},
     "output_type": "execute_result"
    }
   ],
   "source": [
    "\n",
    "list_input = [2, 5, 7, 8, 9]\n",
    "def zeroed(list_input):\n",
    "    # reference the index for first and last item in list, then change the value\n",
    "    list_input[::len(list_input) -1] = [0,0]\n",
    "    # list_input[0:-1] = [0,0]\n",
    "    return list_input\n",
    "\n",
    "zeroed(list_input)"
   ]
  }
 ],
 "metadata": {
  "kernelspec": {
   "display_name": "Python 3.10.7 64-bit",
   "language": "python",
   "name": "python3"
  },
  "language_info": {
   "codemirror_mode": {
    "name": "ipython",
    "version": 3
   },
   "file_extension": ".py",
   "mimetype": "text/x-python",
   "name": "python",
   "nbconvert_exporter": "python",
   "pygments_lexer": "ipython3",
   "version": "3.10.7"
  },
  "orig_nbformat": 4,
  "vscode": {
   "interpreter": {
    "hash": "b0fa6594d8f4cbf19f97940f81e996739fb7646882a419484c72d19e05852a7e"
   }
  }
 },
 "nbformat": 4,
 "nbformat_minor": 2
}
