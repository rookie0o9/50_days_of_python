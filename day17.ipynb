{
 "cells": [
  {
   "cell_type": "markdown",
   "metadata": {},
   "source": [
    "Day 17: User Name Generator\n",
    "\n",
    "Write a function called user_name, that creates a username for the user. The function should ask a user to input their name. The function should then reverse the name and attach a randomly issued number between 0 – 9 at the end of the name. The function should return the username."
   ]
  },
  {
   "cell_type": "code",
   "execution_count": null,
   "metadata": {},
   "outputs": [],
   "source": [
    "# use random library\n",
    "from random import randint\n",
    "def user_name():\n",
    "    # get name input\n",
    "    name_input = input(\"What is your name: \")\n",
    "    # create username \n",
    "    username = (\"{}_{}\").format(name_input[::-1], randint(0, 9))\n",
    "\n",
    "    return username\n",
    "print(user_name())"
   ]
  },
  {
   "cell_type": "markdown",
   "metadata": {},
   "source": [
    "Extra Challenge: Sort by Length\n",
    "\n",
    "names = [ \"Peter\", \"Jon\", \"Andrew\"]\n",
    "Write a function called sort_length that takes a list of strings as an argument, and sorts the strings in ascending order according to their length. For example, the list above should return:\n",
    "['Jon', 'Peter', 'Andrew']\n",
    "Do not use the built-in sort functions"
   ]
  },
  {
   "cell_type": "code",
   "execution_count": 50,
   "metadata": {},
   "outputs": [
    {
     "name": "stdout",
     "output_type": "stream",
     "text": [
      "Took -0.00012111663818359375 secs to run the sort function and get ['t', 'ob', 'treeeee']\n"
     ]
    }
   ],
   "source": [
    "import time\n",
    "\n",
    "start_time = time.time()\n",
    "names = [\"Peter\", \"Jon\", \"Andrew\"]\n",
    "names2 = [\"ob\", \"treeeee\", \"t\"]\n",
    "\n",
    "\n",
    "# DEFINE A SORT LENGTH FUNCTION, PASS IN A LIST OF STRINGS\n",
    "def sort_length(a):\n",
    "    # CREATE A LIST COMPREHENSION TO GET VALUES OF LENGTH OF EACH STRING IN THE LIST\n",
    "    get_str_len = [len(i) for i in a]\n",
    "    # MAP THE LIST OF LENGTH VALUES TO THE STRINGS\n",
    "    data = dict(zip(get_str_len, a))\n",
    "    # CREATE A FOR LOOP OVER THE VALUES IN THE LIST FOR THE RANGE OF LENGTH \n",
    "    for i in range(len(get_str_len)):\n",
    "        # IF THE MEMBERS OF THE LIST ARE SORTED ACCORDING TO FIGURES, RETURN THE LIST\n",
    "        sorted_list = True\n",
    "        # IF NOT, FOR THE REMAINING MEMBERS OF THE LIST AFTER PICKING ONE(i), MINUS THE LAST ELEMENT WHICH ONLY NEEDS CHECKING AND NO SORTING \n",
    "        for j in range(len(get_str_len) - i - 1):\n",
    "            # IF THE PICKED ITEM IS GREATER THAN THE NEXT ITEM\n",
    "            if get_str_len[j] > get_str_len[j + 1]:\n",
    "                # SWAP THEIR POSITION\n",
    "                get_str_len[j], get_str_len[j +\n",
    "                                            1] = get_str_len[j+1], get_str_len[j]\n",
    "                # AS LONG AS THE LIST IS NOT SORTED, DO THAT\n",
    "                sorted_list = False\n",
    "        # IF LIST IS SORTED = TRUE, BREAK OUT\n",
    "        if sorted_list:\n",
    "            break\n",
    "    # STORE THE VALUES OF THE SORTED LENGTHS IN A VARIABLE\n",
    "    result = [data[i] for i in get_str_len]\n",
    "    # RETURN THE VARIABLE\n",
    "    return result\n",
    "\n",
    "   \n",
    "sort_length(names2)\n",
    "\n",
    "end_time = time.time()\n",
    "\n",
    "print(f\"Took {(start_time - end_time)} secs to run the sort function and get {sort_length(names2)}\")\n"
   ]
  }
 ],
 "metadata": {
  "kernelspec": {
   "display_name": "Python 3.10.7 64-bit",
   "language": "python",
   "name": "python3"
  },
  "language_info": {
   "codemirror_mode": {
    "name": "ipython",
    "version": 3
   },
   "file_extension": ".py",
   "mimetype": "text/x-python",
   "name": "python",
   "nbconvert_exporter": "python",
   "pygments_lexer": "ipython3",
   "version": "3.10.7"
  },
  "orig_nbformat": 4,
  "vscode": {
   "interpreter": {
    "hash": "b0fa6594d8f4cbf19f97940f81e996739fb7646882a419484c72d19e05852a7e"
   }
  }
 },
 "nbformat": 4,
 "nbformat_minor": 2
}
