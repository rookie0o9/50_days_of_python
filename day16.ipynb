{
 "cells": [
  {
   "cell_type": "markdown",
   "metadata": {},
   "source": [
    "Day 16: Sum the List\n",
    "\n",
    "Write a function called sum_list with one parameter that takes a nested list of integers as an argument and returns the sum of the integers. For example, if you pass [[2, 4, 5, 6], [2, 3, 5, 6]] as an argument your function should return a sum of 33."
   ]
  },
  {
   "cell_type": "code",
   "execution_count": 6,
   "metadata": {},
   "outputs": [
    {
     "data": {
      "text/plain": [
       "33"
      ]
     },
     "execution_count": 6,
     "metadata": {},
     "output_type": "execute_result"
    }
   ],
   "source": [
    "nested_list = [[2, 4, 5, 6], [2, 3, 5, 6]]\n",
    "def sum_list(nested_list):\n",
    "    # take every elem in each list index, add them, and input in new list\n",
    "    flatten_nested_list = [sum([(elem) for elem in sublist]) for sublist in nested_list]\n",
    "    # return a sum of all lists\n",
    "    return sum(flatten_nested_list)\n",
    "\n",
    "sum_list(nested_list)"
   ]
  },
  {
   "cell_type": "markdown",
   "metadata": {},
   "source": [
    "Extra Challenge: Unpack A Nest\n",
    "\n",
    "Nested_list = [[12, 34, 56, 67], [34, 68, 78]]\n",
    "Write a code that generates a list of the following numbers from the nested list above – 34, 67, 78. Your output should be another list:\n",
    "[34, 67, 78]. The list output should not have duplicates."
   ]
  },
  {
   "cell_type": "code",
   "execution_count": 8,
   "metadata": {},
   "outputs": [
    {
     "data": {
      "text/plain": [
       "[34, 67, 78]"
      ]
     },
     "execution_count": 8,
     "metadata": {},
     "output_type": "execute_result"
    }
   ],
   "source": [
    "Nested_list = [[12, 34, 56, 67], [34, 68, 78]]\n",
    "def index_nested_list(a):\n",
    "    # use list index to reference list\n",
    "    new_list = [a[0][1], a[0][3], a[1][2]]\n",
    "    return new_list\n",
    "\n",
    "index_nested_list(Nested_list)"
   ]
  }
 ],
 "metadata": {
  "kernelspec": {
   "display_name": "Python 3.10.7 64-bit",
   "language": "python",
   "name": "python3"
  },
  "language_info": {
   "codemirror_mode": {
    "name": "ipython",
    "version": 3
   },
   "file_extension": ".py",
   "mimetype": "text/x-python",
   "name": "python",
   "nbconvert_exporter": "python",
   "pygments_lexer": "ipython3",
   "version": "3.10.7"
  },
  "orig_nbformat": 4,
  "vscode": {
   "interpreter": {
    "hash": "b0fa6594d8f4cbf19f97940f81e996739fb7646882a419484c72d19e05852a7e"
   }
  }
 },
 "nbformat": 4,
 "nbformat_minor": 2
}
