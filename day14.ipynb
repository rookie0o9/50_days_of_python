{
 "cells": [
  {
   "cell_type": "markdown",
   "metadata": {},
   "source": [
    "Day 14: Flatten the List\n",
    "\n",
    "Write a function called flat_list that takes one argument, a nested list. The function converts the nested list into a one- dimension list. For example [[2,4,5,6]] should return [2,4,5,6]."
   ]
  },
  {
   "cell_type": "code",
   "execution_count": 11,
   "metadata": {},
   "outputs": [
    {
     "data": {
      "text/plain": [
       "[2, 4, 5, 6]"
      ]
     },
     "execution_count": 11,
     "metadata": {},
     "output_type": "execute_result"
    }
   ],
   "source": [
    "nested_list = [[2,4,5,6]]\n",
    "\n",
    "def flat_list(nested_list):\n",
    "    # method1: either reference the first index of the list\n",
    "    convert_nested_list = nested_list[0]\n",
    "    return convert_nested_list\n",
    "\n",
    "    # method2: take every elem in the first list index, convert it to a str, add them to a new list\n",
    "    # flatten_nested_list = [','.join([str(elem) for elem in sublist]) for sublist in nested_list]\n",
    "    # return flatten_nested_list\n",
    "\n",
    "flat_list(nested_list)"
   ]
  },
  {
   "cell_type": "markdown",
   "metadata": {},
   "source": [
    "Extra Challenge: Teacher’s Salary\n",
    "\n",
    "A school has asked you to write a program that will calculate teachers' salaries. The program should ask the user to enter the teacher’s name, the number of periods taught in a month, and the rate per period. The monthly salary is calculated by multiplying the number of periods by the monthly rate. The current monthly rate per period is $20. If a teacher has more than 100 periods in a month, everything above 100 is overtime. Overtime is $25 per period. For example, if a teacher has taught 105 periods, their monthly gross salary should be 2,125. Write a function called your_salary that calculates a teacher’s gross salary. The function should return the teacher’s name, periods taught, and gross salary. Here is how you should format your output:"
   ]
  },
  {
   "cell_type": "code",
   "execution_count": null,
   "metadata": {},
   "outputs": [],
   "source": [
    "def your_salary():\n",
    "    # input name\n",
    "    name_input = input(\"Teachers name: \")\n",
    "    # set value for maximum normal hours\n",
    "    max_normal_monthly_period = 100\n",
    "    # set values for overtime rate\n",
    "    overtime_monthly_rate = 25\n",
    "    # create a while loop to check for value error\n",
    "    while True:\n",
    "        try:\n",
    "            # get period input value\n",
    "            period_input = int(input(\"How many periods did you take: \"))\n",
    "        except ValueError:\n",
    "            print(\"Input a correct value: \")\n",
    "            continue\n",
    "        try:\n",
    "            # get rate value\n",
    "            rate_input = int(input(\"What is the rate per period: \"))\n",
    "        except ValueError:\n",
    "            print(\"Input rate in numbers: \")\n",
    "        # set condition to check for number of hours worked\n",
    "        if period_input <= max_normal_monthly_period:\n",
    "            # multiply period time by the normal rate\n",
    "            gross_salary = period_input * rate_input\n",
    "            # return the values\n",
    "            result_output = (\"Teacher: {}, \\nPeriods: {} \\nGross salary: {} \".format(\n",
    "                name_input, period_input, gross_salary))\n",
    "            return result_output\n",
    "        # if the normal of hours over normal time, do this\n",
    "        elif period_input > max_normal_monthly_period:\n",
    "            overtime = period_input - max_normal_monthly_period\n",
    "            gross_salary = (\n",
    "                max_normal_monthly_period * rate_input) + (overtime * overtime_monthly_rate)\n",
    "            result_output = (\"Teacher: {}, \\nPeriods: {} \\nGross salary: {} \".format(\n",
    "                name_input, period_input, gross_salary))\n",
    "            return result_output\n",
    "\n",
    "\n",
    "print(your_salary())\n"
   ]
  }
 ],
 "metadata": {
  "kernelspec": {
   "display_name": "Python 3.10.7 64-bit",
   "language": "python",
   "name": "python3"
  },
  "language_info": {
   "codemirror_mode": {
    "name": "ipython",
    "version": 3
   },
   "file_extension": ".py",
   "mimetype": "text/x-python",
   "name": "python",
   "nbconvert_exporter": "python",
   "pygments_lexer": "ipython3",
   "version": "3.10.7"
  },
  "orig_nbformat": 4,
  "vscode": {
   "interpreter": {
    "hash": "b0fa6594d8f4cbf19f97940f81e996739fb7646882a419484c72d19e05852a7e"
   }
  }
 },
 "nbformat": 4,
 "nbformat_minor": 2
}
