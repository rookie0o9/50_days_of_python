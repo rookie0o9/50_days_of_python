{
 "cells": [
  {
   "cell_type": "markdown",
   "metadata": {},
   "source": [
    "Day 8: Odd and Even\n",
    "\n",
    "Write a function called odd_even that has one parameter and takes a list of numbers as an argument. The function returns the difference between the largest even number in the list and the smallest odd number in the list. For example, if you pass [1,2,4,6] as an argument the function should return 6 -1= 5.\n"
   ]
  },
  {
   "cell_type": "code",
   "execution_count": null,
   "metadata": {},
   "outputs": [],
   "source": [
    "int_list = [1, 2, 4, 6]\n",
    "def odd_even(int_list):\n",
    "    # get value of max even number\n",
    "    get_max_even = [max_even for max_even in int_list if (max_even % 2 == 0) and max_even == max(int_list)]\n",
    "    # get value of min odd number\n",
    "    get_min_odd = [min_odd for min_odd in int_list if (\n",
    "        min_odd % 2 == 1) and min_odd == min(int_list)]\n",
    "    # subtract items in one list from the other\n",
    "    subtract_values = get_max_even[0] - get_min_odd[0]\n",
    "    return subtract_values\n",
    "\n",
    "\n",
    "odd_even(int_list)\n",
    "    "
   ]
  },
  {
   "cell_type": "markdown",
   "metadata": {},
   "source": [
    "Extra Challenge: List of Prime Numbers\n",
    "\n",
    "Write a function called prime_numbers. This function asks a user to enter a number (integer) as an argument and returns a list of all the prime numbers within its range. For example, if user enters 10, your code should return [2, 3, 5, 7] as prime numbers."
   ]
  },
  {
   "cell_type": "code",
   "execution_count": 26,
   "metadata": {},
   "outputs": [
    {
     "name": "stdout",
     "output_type": "stream",
     "text": [
      "2\n",
      "3\n",
      "5\n",
      "7\n"
     ]
    }
   ],
   "source": [
    "num_input = 10\n",
    "\n",
    "\n",
    "def prime_numbers(num_input):\n",
    "    # unpack_num = [num for num in range(num_input)]\n",
    "    for num in range(num_input):\n",
    "        if num>1:\n",
    "            for i in range(2, num):\n",
    "                if num % i == 0:\n",
    "                    break\n",
    "            else:\n",
    "                print(num)\n",
    "\n",
    "\n",
    "\n",
    "prime_numbers(num_input)"
   ]
  },
  {
   "cell_type": "code",
   "execution_count": null,
   "metadata": {},
   "outputs": [],
   "source": []
  }
 ],
 "metadata": {
  "kernelspec": {
   "display_name": "Python 3.10.7 64-bit",
   "language": "python",
   "name": "python3"
  },
  "language_info": {
   "codemirror_mode": {
    "name": "ipython",
    "version": 3
   },
   "file_extension": ".py",
   "mimetype": "text/x-python",
   "name": "python",
   "nbconvert_exporter": "python",
   "pygments_lexer": "ipython3",
   "version": "3.10.7"
  },
  "orig_nbformat": 4,
  "vscode": {
   "interpreter": {
    "hash": "b0fa6594d8f4cbf19f97940f81e996739fb7646882a419484c72d19e05852a7e"
   }
  }
 },
 "nbformat": 4,
 "nbformat_minor": 2
}
